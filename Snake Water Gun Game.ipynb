{
 "cells": [
  {
   "cell_type": "code",
   "execution_count": 30,
   "id": "b0218b01",
   "metadata": {},
   "outputs": [
    {
     "name": "stdout",
     "output_type": "stream",
     "text": [
      "comp turn  'snake','water','gun': \n",
      "Enter your choice choice 'snake','water','gun': snake\n",
      "you win the game\n",
      "comp chooses  water\n",
      "you chooses  snake\n"
     ]
    }
   ],
   "source": [
    "import random\n",
    " \n",
    "def gamewin(comp,you):\n",
    "    \n",
    "    if comp == you:\n",
    "        return 'game is tie'\n",
    "    elif comp == 'snake':\n",
    "        if you == 'Water':\n",
    "            return 'comp win the game'\n",
    "        if you == 'gun':\n",
    "            return 'you win the game'\n",
    "    elif comp == 'water':\n",
    "        if you == 'gun':\n",
    "            return 'comp win the game'\n",
    "        if you == 'snake':\n",
    "            return 'you win the game'        \n",
    "    elif comp =='gun':\n",
    "        if you =='snake':\n",
    "            return 'comp win the game'\n",
    "        if you == 'water':\n",
    "            return 'you win the game'  \n",
    "        \n",
    "print(\"comp turn  'snake','water','gun': \")\n",
    "\n",
    "rand=random.randint(1,3)\n",
    "    \n",
    "if rand == 1:\n",
    "    comp = 'snake'\n",
    "elif rand==2:\n",
    "    comp = 'water'\n",
    "elif rand ==3:\n",
    "    comp = 'gun'\n",
    "\n",
    "you = input(\"Enter your choice choice 'snake','water','gun': \")\n",
    "\n",
    "a=gamewin(comp,you)\n",
    "\n",
    "print(a)\n",
    "print('comp chooses ',comp)\n",
    "print('you chooses ',you)"
   ]
  },
  {
   "cell_type": "code",
   "execution_count": 19,
   "id": "06ceab60",
   "metadata": {},
   "outputs": [
    {
     "data": {
      "text/plain": [
       "'comp win the game'"
      ]
     },
     "execution_count": 19,
     "metadata": {},
     "output_type": "execute_result"
    }
   ],
   "source": [
    "gamewin(comp,you)"
   ]
  },
  {
   "cell_type": "code",
   "execution_count": 22,
   "id": "2c0940e9",
   "metadata": {},
   "outputs": [
    {
     "data": {
      "text/plain": [
       "'comp win the game'"
      ]
     },
     "execution_count": 22,
     "metadata": {},
     "output_type": "execute_result"
    }
   ],
   "source": [
    "gamewin(comp,'gun')"
   ]
  },
  {
   "cell_type": "code",
   "execution_count": 23,
   "id": "be238199",
   "metadata": {},
   "outputs": [
    {
     "data": {
      "text/plain": [
       "'comp win the game'"
      ]
     },
     "execution_count": 23,
     "metadata": {},
     "output_type": "execute_result"
    }
   ],
   "source": [
    "gamewin(comp,'gun')"
   ]
  },
  {
   "cell_type": "code",
   "execution_count": 24,
   "id": "230d1d43",
   "metadata": {},
   "outputs": [
    {
     "data": {
      "text/plain": [
       "'comp win the game'"
      ]
     },
     "execution_count": 24,
     "metadata": {},
     "output_type": "execute_result"
    }
   ],
   "source": [
    "gamewin(comp,'gun')"
   ]
  },
  {
   "cell_type": "code",
   "execution_count": 25,
   "id": "c6bb2a7e",
   "metadata": {},
   "outputs": [
    {
     "data": {
      "text/plain": [
       "'game is tie'"
      ]
     },
     "execution_count": 25,
     "metadata": {},
     "output_type": "execute_result"
    }
   ],
   "source": [
    "gamewin(comp,'water')"
   ]
  },
  {
   "cell_type": "code",
   "execution_count": 27,
   "id": "b38a5065",
   "metadata": {},
   "outputs": [
    {
     "data": {
      "text/plain": [
       "'you win the game'"
      ]
     },
     "execution_count": 27,
     "metadata": {},
     "output_type": "execute_result"
    }
   ],
   "source": [
    "gamewin(comp,'snake')"
   ]
  },
  {
   "cell_type": "code",
   "execution_count": 29,
   "id": "dc08bba0",
   "metadata": {},
   "outputs": [
    {
     "data": {
      "text/plain": [
       "'comp win the game'"
      ]
     },
     "execution_count": 29,
     "metadata": {},
     "output_type": "execute_result"
    }
   ],
   "source": [
    "gamewin(comp,'gun')"
   ]
  },
  {
   "cell_type": "code",
   "execution_count": null,
   "id": "865091c8",
   "metadata": {},
   "outputs": [],
   "source": []
  }
 ],
 "metadata": {
  "kernelspec": {
   "display_name": "Python 3",
   "language": "python",
   "name": "python3"
  },
  "language_info": {
   "codemirror_mode": {
    "name": "ipython",
    "version": 3
   },
   "file_extension": ".py",
   "mimetype": "text/x-python",
   "name": "python",
   "nbconvert_exporter": "python",
   "pygments_lexer": "ipython3",
   "version": "3.8.8"
  }
 },
 "nbformat": 4,
 "nbformat_minor": 5
}
